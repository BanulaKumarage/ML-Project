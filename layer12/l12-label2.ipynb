{
 "cells": [
  {
   "cell_type": "code",
   "execution_count": 1,
   "metadata": {},
   "outputs": [],
   "source": [
    "import pandas as pd\n",
    "import numpy as np\n",
    "import matplotlib.pyplot as plt\n",
    "from sklearn.preprocessing import StandardScaler, RobustScaler\n",
    "from sklearn.neighbors import KNeighborsClassifier\n",
    "from sklearn.linear_model import LogisticRegression\n",
    "from sklearn.ensemble import RandomForestClassifier\n",
    "from sklearn.naive_bayes import GaussianNB\n",
    "from sklearn.model_selection import cross_val_score\n",
    "from sklearn.metrics import accuracy_score\n",
    "from sklearn.svm import SVC\n",
    "from sklearn.decomposition import PCA\n",
    "import math\n",
    "import seaborn as sn\n",
    "import xgboost as xgb\n",
    "from imblearn.over_sampling import RandomOverSampler\n",
    "from sklearn import metrics\n",
    "from sklearn.calibration import LabelEncoder\n",
    "from catboost import CatBoostClassifier"
   ]
  },
  {
   "cell_type": "code",
   "execution_count": 2,
   "metadata": {},
   "outputs": [],
   "source": [
    "import warnings\n",
    "warnings.filterwarnings('ignore')"
   ]
  },
  {
   "cell_type": "code",
   "execution_count": 3,
   "metadata": {},
   "outputs": [],
   "source": [
    "train = pd.read_csv('train.csv')\n",
    "valid = pd.read_csv('valid.csv')\n",
    "test = pd.read_csv('test.csv')"
   ]
  },
  {
   "cell_type": "code",
   "execution_count": 4,
   "metadata": {},
   "outputs": [],
   "source": [
    "label2_train = train.copy()\n",
    "label2_valid = valid.copy()\n",
    "label2_test = test.copy()"
   ]
  },
  {
   "cell_type": "code",
   "execution_count": 5,
   "metadata": {},
   "outputs": [],
   "source": [
    "label2_train = label2_train.dropna(subset=['label_2'])\n",
    "label2_valid = label2_valid.dropna(subset=['label_2'])"
   ]
  },
  {
   "cell_type": "code",
   "execution_count": 6,
   "metadata": {},
   "outputs": [],
   "source": [
    "X_train = label2_train.drop(['label_1', 'label_2', 'label_3', 'label_4'], axis=1)\n",
    "y_train = label2_train[['label_1', 'label_2', 'label_3', 'label_4']]\n",
    "X_val = label2_valid.drop(['label_1', 'label_2', 'label_3', 'label_4'], axis=1)\n",
    "y_val = label2_valid[['label_1', 'label_2', 'label_3', 'label_4']]\n",
    "X_test = label2_test.drop(['ID'], axis=1)"
   ]
  },
  {
   "cell_type": "code",
   "execution_count": 7,
   "metadata": {},
   "outputs": [],
   "source": [
    "scaler = RobustScaler()\n",
    "X_train_scaled = scaler.fit_transform(X_train)\n",
    "X_val_scaled = scaler.transform(X_val)\n",
    "X_test_scaled = scaler.transform(X_test)"
   ]
  },
  {
   "cell_type": "code",
   "execution_count": null,
   "metadata": {},
   "outputs": [],
   "source": [
    "cross_val_score(SVC(C=100), X_train_scaled, y_train['label_2'], cv=2, scoring='accuracy').mean()"
   ]
  },
  {
   "cell_type": "code",
   "execution_count": null,
   "metadata": {},
   "outputs": [],
   "source": [
    "cross_val_score(SVC(C=1000, gamma= 0.01), X_train_scaled, y_train['label_2'], cv=2, scoring='accuracy').mean()"
   ]
  },
  {
   "cell_type": "code",
   "execution_count": 32,
   "metadata": {},
   "outputs": [],
   "source": [
    "pca = PCA(n_components=0.95, svd_solver = 'full')\n",
    "X_train_pca = pca.fit_transform(X_train_scaled)\n",
    "X_val_pca = pca.transform(X_val_scaled)\n",
    "X_test_pca = pca.transform(X_test_scaled)"
   ]
  },
  {
   "cell_type": "code",
   "execution_count": 8,
   "metadata": {},
   "outputs": [
    {
     "name": "stdout",
     "output_type": "stream",
     "text": [
      "Best Params {'C': 100, 'gamma': 0.001, 'kernel': 'rbf'}\n",
      "Best CV Score 0.5852988403211419\n"
     ]
    }
   ],
   "source": [
    "from sklearn.experimental import enable_halving_search_cv\n",
    "from sklearn.model_selection import HalvingGridSearchCV\n",
    "\n",
    "halving_cv = HalvingGridSearchCV(SVC(), {\n",
    "    'C': [1, 10,100,1000,1500,2000],\n",
    "    'kernel': ['rbf'],\n",
    "    'gamma': ['scale','auto', 0.1, 0.01, 0.001]\n",
    "})\n",
    "halving_cv.fit(X_train_scaled, y_train['label_2'])\n",
    "\n",
    "print(\"Best Params\", halving_cv.best_params_)\n",
    "print(\"Best CV Score\", halving_cv.best_score_)"
   ]
  },
  {
   "cell_type": "code",
   "execution_count": null,
   "metadata": {},
   "outputs": [],
   "source": [
    "from sklearn.metrics import classification_report\n",
    "\n",
    "def get_score(model, X_train, y_train, X_val, y_val, verbose = False):\n",
    "    model.fit(X_train, y_train)\n",
    "    y_pred = model.predict(X_val)\n",
    "    if verbose:\n",
    "        print(classification_report(y_val, y_pred))\n",
    "\n",
    "    return accuracy_score(y_val, y_pred) * 100"
   ]
  },
  {
   "cell_type": "code",
   "execution_count": null,
   "metadata": {},
   "outputs": [],
   "source": [
    "get_score(\n",
    "    SVC(C=1000),\n",
    "    X_train_pca, y_train['label_2'],\n",
    "    X_val_pca, y_val['label_2']\n",
    ")"
   ]
  },
  {
   "cell_type": "code",
   "execution_count": null,
   "metadata": {},
   "outputs": [],
   "source": [
    "cross_val_score(SVC(C=1000), X_train_pca, y_train['label_2'], cv=5).mean()  * 100"
   ]
  },
  {
   "cell_type": "code",
   "execution_count": null,
   "metadata": {},
   "outputs": [],
   "source": [
    "cross_val_score(CatBoostClassifier(), X_train_pca, y_train['label_2'], cv=5).mean()"
   ]
  },
  {
   "cell_type": "code",
   "execution_count": null,
   "metadata": {},
   "outputs": [],
   "source": [
    "get_score(\n",
    "    SVC(C=1000),\n",
    "    X_train_pca, y_train['label_2'],\n",
    "    X_val_pca, y_val['label_2']\n",
    ")"
   ]
  },
  {
   "cell_type": "code",
   "execution_count": null,
   "metadata": {},
   "outputs": [],
   "source": [
    "get_score(\n",
    "    CatBoostClassifier(learning_rate=0.1, max_depth=6, task_type=\"GPU\", devices='0:1'),\n",
    "    X_train_pca, y_train['label_2'],\n",
    "    X_val_pca, y_val['label_2']\n",
    ")"
   ]
  },
  {
   "cell_type": "code",
   "execution_count": null,
   "metadata": {},
   "outputs": [],
   "source": [
    "cross_val_score(\n",
    "    CatBoostClassifier(loss_function='MultiClass', max_depth=6 , task_type=\"GPU\", devices='0:1'),\n",
    "    X_train, y_train['label_2'], cv=5).mean() * 100"
   ]
  },
  {
   "cell_type": "code",
   "execution_count": null,
   "metadata": {},
   "outputs": [],
   "source": [
    "cross_val_score(\n",
    "    SVC(C=1000, gamma=0.001),\n",
    "    X_train, y_train['label_2'], cv=5, verbose=3).mean() * 100"
   ]
  },
  {
   "cell_type": "code",
   "execution_count": null,
   "metadata": {},
   "outputs": [],
   "source": [
    "# from scipy.stats import randint\n",
    "# from sklearn.model_selection import RandomizedSearchCV\n",
    "\n",
    "# param_dist = { \"learning_rate\": np.linspace(0,0.2,5),\n",
    "#                \"max_depth\": randint(3, 10)}\n",
    "               \n",
    "# #Instantiate RandomSearchCV object\n",
    "# rscv = RandomizedSearchCV(CatBoostClassifier(task_type=\"GPU\",\n",
    "#                            devices='0:1'), param_dist, scoring='accuracy', cv =5, verbose=3)\n",
    "\n",
    "# #Fit the model\n",
    "# rscv.fit(X_train_pca, y_train['label_3'])\n",
    "\n",
    "# print(rscv.best_params_)"
   ]
  },
  {
   "cell_type": "code",
   "execution_count": null,
   "metadata": {},
   "outputs": [],
   "source": [
    "cross_val_score(\n",
    "    CatBoostClassifier(task_type=\"GPU\",\n",
    "                        devices='0:1,', learning_rate=0.1, max_depth=6, iterations=1000),\n",
    "    X_train, y_train['label_2'], cv=5, verbose=3\n",
    ").mean() * 100"
   ]
  },
  {
   "cell_type": "code",
   "execution_count": null,
   "metadata": {},
   "outputs": [],
   "source": [
    "get_score(\n",
    "    CatBoostClassifier(task_type=\"GPU\",\n",
    "                        devices='0:1,', learning_rate=0.15),\n",
    "    X_train_pca, y_train['label_2'],\n",
    "    X_val_pca, y_val['label_2']\n",
    ")"
   ]
  },
  {
   "cell_type": "code",
   "execution_count": null,
   "metadata": {},
   "outputs": [],
   "source": [
    "get_score(\n",
    "    SVC(C=1000, gamma=0.1),\n",
    "    X_train_pca, y_train['label_2'],\n",
    "    X_val_pca, y_val['label_2']\n",
    ")"
   ]
  },
  {
   "cell_type": "code",
   "execution_count": null,
   "metadata": {},
   "outputs": [],
   "source": []
  }
 ],
 "metadata": {
  "kernelspec": {
   "display_name": "mlproj",
   "language": "python",
   "name": "python3"
  },
  "language_info": {
   "codemirror_mode": {
    "name": "ipython",
    "version": 3
   },
   "file_extension": ".py",
   "mimetype": "text/x-python",
   "name": "python",
   "nbconvert_exporter": "python",
   "pygments_lexer": "ipython3",
   "version": "3.10.0"
  },
  "orig_nbformat": 4
 },
 "nbformat": 4,
 "nbformat_minor": 2
}
